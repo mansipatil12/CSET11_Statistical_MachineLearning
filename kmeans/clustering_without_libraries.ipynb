{
 "cells": [
  {
   "cell_type": "code",
   "execution_count": 2,
   "metadata": {},
   "outputs": [],
   "source": [
    "import numpy as np\n",
    "import matplotlib.pyplot as plt\n",
    "import random\n",
    "import pandas as pd"
   ]
  },
  {
   "cell_type": "code",
   "execution_count": 30,
   "metadata": {},
   "outputs": [
    {
     "data": {
      "image/png": "[encoded data removed]",
      "text/plain": [
       "<Figure size 1000x600 with 1 Axes>"
      ]
     },
     "metadata": {},
     "output_type": "display_data"
    }
   ],
   "source": [
    "def plot_data(X):\n",
    "    plt.figure(figsize=(10, 6))\n",
    "    for i in range(len(X)):\n",
    "        x, y = X[i, 0], X[i, 1]\n",
    "        plt.plot(x, y, 'ko')  \n",
    "    plt.xlabel('X-axis')\n",
    "    plt.ylabel('Y-axis')\n",
    "    plt.title('Data Points')\n",
    "    plt.show()\n",
    "X = np.random.rand(50, 2)  \n",
    "plot_data(X)\n"
   ]
  },
  {
   "cell_type": "code",
   "execution_count": 31,
   "metadata": {},
   "outputs": [],
   "source": [
    "def plot_clusters_with_centroids(data, cluster_centers, cluster_assignments, centroids):\n",
    "    plt.figure(figsize=(10, 6))\n",
    "    colors = ['b', 'g']\n",
    "\n",
    "    for i in range(len(data)):\n",
    "        x, y = data[i]\n",
    "        plt.plot(x, y, 'o', color=colors[cluster_assignments[i]], markersize=8)\n",
    "\n",
    "    for center in cluster_centers:\n",
    "        plt.plot(center[0], center[1], 'x', color='r', markersize=15, markeredgewidth=3)\n",
    "\n",
    "    for centroid in centroids:\n",
    "        plt.plot(centroid[0], centroid[1], '*', color='y', markersize=15, markeredgewidth=3)\n",
    "\n",
    "    plt.xlabel('X-axis')\n",
    "    plt.ylabel('Y-axis')\n",
    "    plt.title('K-Means Clustering with Centroids')\n",
    "    plt.grid(True)\n",
    "    plt.show()\n",
    "\n"
   ]
  },
  {
   "cell_type": "code",
   "execution_count": 33,
   "metadata": {},
   "outputs": [],
   "source": [
    "#centroids for the clusters\n",
    "def random_centroid(X,k):\n",
    "    random_idx=[np.random.randint(0,len(X)) for i in range(k)]\n",
    "    centroids=[]\n",
    "    for i in random_idx:\n",
    "        centroids.append(X[i])\n",
    "    return centroids"
   ]
  },
  {
   "cell_type": "code",
   "execution_count": 1,
   "metadata": {},
   "outputs": [],
   "source": [
    "#determine which cluster the data point belongs to\n",
    "def assign_cluster(X,ini_centroids,k):\n",
    "    cluster=[]\n",
    "    for i in range(len(X)):\n",
    "        euc_dist=[]\n",
    "        for j in range(k):\n",
    "            euc_dist.append(np.linalg.norm(np.subtract(X[i]-ini_centroids[j])))\n",
    "        idx=np.argmin(euc_dist)\n",
    "        cluster.append(idx)\n",
    "    return cluster"
   ]
  },
  {
   "cell_type": "code",
   "execution_count": 2,
   "metadata": {},
   "outputs": [],
   "source": [
    "#Returns the updated centroids\n",
    "def compute_centroids(X,cluster,k):\n",
    "    centroids=[]\n",
    "    for i in range(k):\n",
    "        temp_arr=[]\n",
    "        for j in range(len(X)):\n",
    "            if cluster[j]==i:\n",
    "                temp_arr.append(X[j])\n",
    "        centroids.append(np.mean(temp_arr,axis=0))\n",
    "    return np.array(centroids)\n",
    "\n"
   ]
  },
  {
   "cell_type": "code",
   "execution_count": 3,
   "metadata": {},
   "outputs": [],
   "source": [
    "#returns the difference between the old and new centroids\n",
    "def difference(prev,next):\n",
    "    diff=0\n",
    "    for i in range(len(prev)):\n",
    "        diff+=np.linalg.norm(prev[i]-next[i])\n",
    "    return diff"
   ]
  },
  {
   "cell_type": "code",
   "execution_count": 5,
   "metadata": {},
   "outputs": [],
   "source": [
    "#used to plot in each iteration\n",
    "def show_clusters(X,clusters,centroids,ini_centroids,mark_centroid=True, show_init_centroid=True, show_plots=True):\n",
    "    cols={0:'r',1:'b',2:'g',3:'coral',4:'c',5:'lime'}\n",
    "    fig, ax=plt.subplots(figsize=(7,5,6));\n",
    "    for i in range(len(clusters)):\n",
    "        ax.scatter(X[i,0],X[i,1],color=cols[clusters[i]])\n",
    "    for j in range(len(centroids)):\n",
    "        ax.scatter(centroids[j][0],centroids[j][1],marker='*',color=cols[j])\n",
    "    if show_init_centroid== True:\n",
    "        ax.scatter(ini_centroids[j][0],ini_centroids[j][1],marker='+',s=150,color=cols[j])\n",
    "    if mark_centroid==True:\n",
    "        for i in range(len(centroids)):\n",
    "            ax.add_artist(plt.Circle((centroids[i][0],centroids[i][1]),0.4,linewidth=2, color='y',fill=False))\n",
    "    if show_ini_centroid==True:\n",
    "        ax.add_artist(plt.Circle((ini_centroids[i][0],ini_centroids[i][1]),0.4,linewidth=2,color='y',fill=False))\n",
    "    ax.set_xlabel('X-axis')\n",
    "    ax.set_ylabel('Y-axis')\n",
    "    ax.set_title('K-Means Clustering')\n",
    "    if show_plots==True:\n",
    "        plt.show()"
   ]
  },
  {
   "cell_type": "code",
   "execution_count": 8,
   "metadata": {},
   "outputs": [],
   "source": [
    "# K-Means algorithm\n",
    "def k_means(X, k, show_type='all', show_plots=True):\n",
    "    c_prev = random_centroid(X, k)\n",
    "    cluster = assign_cluster(X, c_prev, k)\n",
    "    initial_centroids = c_prev\n",
    "    diff = 100\n",
    "    \n",
    "    if show_plots:\n",
    "        print(\"NOTE: + and Yellow Circle -> Initial centroid\\n* and Black Circle -> Final Centroid\")\n",
    "    \n",
    "    if show_plots:\n",
    "        print(\"\\n\\nInitial Plot:\")\n",
    "        show_clusters(X, cluster, c_prev, initial_centroids, mark_centroid=False, show_initial_centroid=False)\n",
    "    \n",
    "    while diff > 0.0001:\n",
    "        cluster = assign_cluster(X, c_prev, k)\n",
    "        \n",
    "        if show_type == 'all' and show_plots:\n",
    "            show_clusters(X, cluster, c_prev, initial_centroids, mark_centroid=False, show_initial_centroid=False)\n",
    "        \n",
    "        c_new = compute_centroid(X, cluster, k)\n",
    "        diff = max(np.linalg.norm(np.array(c_prev) - np.array(c_new)))\n",
    "        c_prev = c_new\n",
    "    \n",
    "    if show_plots:\n",
    "        print(\"\\nInitial Cluster Centers:\")\n",
    "        print(initial_centroids)\n",
    "        print(\"\\nFinal Cluster Centers:\")\n",
    "        print(c_prev)\n",
    "        \n",
    "        print(\"\\nFinal Plot:\")\n",
    "        show_clusters(X, cluster, c_prev, initial_centroids, mark_centroid=True, show_initial_centroid=True)\n",
    "    \n",
    "    return cluster, c_prev\n"
   ]
  }
 ],
 "metadata": {
  "kernelspec": {
   "display_name": "base",
   "language": "python",
   "name": "python3"
  },
  "language_info": {
   "codemirror_mode": {
    "name": "ipython",
    "version": 3
   },
   "file_extension": ".py",
   "mimetype": "text/x-python",
   "name": "python",
   "nbconvert_exporter": "python",
   "pygments_lexer": "ipython3",
   "version": "3.10.9"
  }
 },
 "nbformat": 4,
 "nbformat_minor": 2
}
