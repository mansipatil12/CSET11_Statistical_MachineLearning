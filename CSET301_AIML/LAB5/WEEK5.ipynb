{
 "cells": [
  {
   "cell_type": "markdown",
   "metadata": {},
   "source": [
    "Use the following synthetic dataset for this experiment:\n",
    "    'X': [1, 2, 3, 4, 5, 6, 7, 8, 9, 10],\n",
    "    'Y': [2.4, 4.5, 6.1, 8.0, 10.2, 12.5, 15.1, 18.0, 21.2, 24.5]\n",
    "\n",
    "Questions:(python code)\n",
    "1. Perform the necessary data preparation steps.\n",
    "2. Implement Linear Regression and Polynomial Regression models with \n",
    "degrees 2, 3, and 4 using a programming language of your choice. Train each \n",
    "model using the provided dataset. \n",
    "3. Evaluate the performance of each model on the testing dataset using Mean \n",
    "Squared Error (MSE) and R-squared. Provide a comparative analysis of the \n",
    "results"
   ]
  },
  {
   "cell_type": "code",
   "execution_count": 1,
   "metadata": {},
   "outputs": [],
   "source": [
    "import pandas as pd\n",
    "\n",
    "# Create a DataFrame with the given values\n",
    "data = {\n",
    "    'X': [1, 2, 3, 4, 5, 6, 7, 8, 9, 10],\n",
    "    'Y': [2.4, 4.5, 6.1, 8.0, 10.2, 12.5, 15.1, 18.0, 21.2, 24.5]\n",
    "}\n",
    "df = pd.DataFrame(data)\n",
    "\n",
    "# Save the DataFrame to a CSV file\n",
    "df.to_csv('data.csv', index=False)"
   ]
  },
  {
   "cell_type": "markdown",
   "metadata": {},
   "source": [
    "Dataset Information:\n",
    "a. Briefly describe the \"Breast Cancer\" dataset.\n",
    "b. Justify the selection of this dataset for studying the comparative performance of \n",
    "Logistic and Polynomial Regression.\n",
    "Model Implementation:\n",
    "a. Implement a Logistic Regression model and Polynomial Regression models with \n",
    "degrees 2, 3, and 4 using a programming language of your choice.\n",
    "b. Clearly present the code and any relevant parameters used in the models.\n",
    "School of Computer Science Engineering and Technology\n",
    "Performance Evaluation:\n",
    "a. Evaluate the performance of each model on the \"Breast Cancer\" dataset using binary \n",
    "classification metrics: accuracy, precision, recall, and F1-score.\n",
    "b. Compare and analyze the performance metrics obtained from Logistic Regression \n",
    "and Polynomial Regression models with different degrees"
   ]
  },
  {
   "cell_type": "code",
   "execution_count": 3,
   "metadata": {},
   "outputs": [
    {
     "name": "stderr",
     "output_type": "stream",
     "text": [
      "c:\\Users\\Mansi\\anaconda3\\lib\\site-packages\\sklearn\\metrics\\_classification.py:1344: UndefinedMetricWarning: Precision is ill-defined and being set to 0.0 due to no predicted samples. Use `zero_division` parameter to control this behavior.\n",
      "  _warn_prf(average, modifier, msg_start, len(result))\n"
     ]
    },
    {
     "name": "stdout",
     "output_type": "stream",
     "text": [
      "Logistic Regression Metrics:\n",
      "Accuracy: 0.6228070175438597\n",
      "Precision: 0.0\n",
      "Recall: 0.0\n",
      "F1-score: 0.0\n",
      "Polynomial Regression (Degree 2) Metrics:\n",
      "Accuracy: 0.37719298245614036\n",
      "Precision: 0.37719298245614036\n",
      "Recall: 1.0\n",
      "F1-score: 0.5477707006369427\n",
      "Polynomial Regression (Degree 3) Metrics:\n",
      "Accuracy: 0.37719298245614036\n",
      "Precision: 0.37719298245614036\n",
      "Recall: 1.0\n",
      "F1-score: 0.5477707006369427\n",
      "Polynomial Regression (Degree 4) Metrics:\n",
      "Accuracy: 0.37719298245614036\n",
      "Precision: 0.37719298245614036\n",
      "Recall: 1.0\n",
      "F1-score: 0.5477707006369427\n"
     ]
    }
   ],
   "source": [
    "import pandas as pd\n",
    "from sklearn.model_selection import train_test_split\n",
    "from sklearn.linear_model import LogisticRegression\n",
    "from sklearn.preprocessing import PolynomialFeatures\n",
    "from sklearn.pipeline import make_pipeline\n",
    "from sklearn.metrics import accuracy_score, precision_score, recall_score, f1_score\n",
    "\n",
    "# Read the breast cancer dataset from a CSV file\n",
    "df = pd.read_csv('breast-cancer.csv')\n",
    "\n",
    "# Split the dataset into features (X) and target variable (y)\n",
    "X = df.drop('diagnosis', axis=1)\n",
    "y = df['diagnosis']\n",
    "\n",
    "# Split the dataset into training and testing sets\n",
    "X_train, X_test, y_train, y_test = train_test_split(X, y, test_size=0.2, random_state=42)\n",
    "\n",
    "# Implement Logistic Regression\n",
    "log_reg = LogisticRegression()\n",
    "log_reg.fit(X_train, y_train)\n",
    "y_pred_log_reg = log_reg.predict(X_test)\n",
    "\n",
    "# Evaluate Logistic Regression\n",
    "accuracy_log_reg = accuracy_score(y_test, y_pred_log_reg)\n",
    "precision_log_reg = precision_score(y_test, y_pred_log_reg, pos_label='M')\n",
    "recall_log_reg = recall_score(y_test, y_pred_log_reg, pos_label='M')\n",
    "f1_log_reg = f1_score(y_test, y_pred_log_reg, pos_label='M')\n",
    "\n",
    "print(\"Logistic Regression Metrics:\")\n",
    "print(f\"Accuracy: {accuracy_log_reg}\")\n",
    "print(f\"Precision: {precision_log_reg}\")\n",
    "print(f\"Recall: {recall_log_reg}\")\n",
    "print(f\"F1-score: {f1_log_reg}\")\n",
    "\n",
    "# Implement Polynomial Regression models with degrees 2, 3, and 4\n",
    "degrees = [2, 3, 4]\n",
    "for degree in degrees:\n",
    "    poly_model = make_pipeline(PolynomialFeatures(degree), LogisticRegression())\n",
    "    poly_model.fit(X_train, y_train)\n",
    "    y_pred_poly = poly_model.predict(X_test)\n",
    "\n",
    "    accuracy_poly = accuracy_score(y_test, y_pred_poly)\n",
    "    precision_poly = precision_score(y_test, y_pred_poly, pos_label='M')\n",
    "    recall_poly = recall_score(y_test, y_pred_poly, pos_label='M')\n",
    "    f1_poly = f1_score(y_test, y_pred_poly, pos_label='M')\n",
    "\n",
    "    print(f\"Polynomial Regression (Degree {degree}) Metrics:\")\n",
    "    print(f\"Accuracy: {accuracy_poly}\")\n",
    "    print(f\"Precision: {precision_poly}\")\n",
    "    print(f\"Recall: {recall_poly}\")\n",
    "    print(f\"F1-score: {f1_poly}\")\n"
   ]
  }
 ],
 "metadata": {
  "kernelspec": {
   "display_name": "base",
   "language": "python",
   "name": "python3"
  },
  "language_info": {
   "codemirror_mode": {
    "name": "ipython",
    "version": 3
   },
   "file_extension": ".py",
   "mimetype": "text/x-python",
   "name": "python",
   "nbconvert_exporter": "python",
   "pygments_lexer": "ipython3",
   "version": "3.10.9"
  }
 },
 "nbformat": 4,
 "nbformat_minor": 2
}
