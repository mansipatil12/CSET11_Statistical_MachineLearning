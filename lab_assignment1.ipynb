{
 "cells": [
  {
   "cell_type": "markdown",
   "metadata": {},
   "source": [
    "Q.1 Creating NumPy arrays"
   ]
  },
  {
   "cell_type": "code",
   "execution_count": 1,
   "metadata": {},
   "outputs": [
    {
     "name": "stdout",
     "output_type": "stream",
     "text": [
      "the version of numpy is 1.23.5\n",
      "1D array: [1 2 3 4 5]\n",
      "2D array:\n",
      " [[1 2 3]\n",
      " [4 5 6]]\n"
     ]
    }
   ],
   "source": [
    "#a) Check the versiono of numpy and create 1D AND 2D arrays\n",
    "import numpy as np\n",
    "print(\"the version of numpy is\", np.__version__)\n",
    "a=np.array([1,2,3,4,5])\n",
    "print(\"1D array:\",a)\n",
    "b=np.array([[1,2,3],[4,5,6]])\n",
    "print(\"2D array:\\n\",b)"
   ]
  },
  {
   "cell_type": "code",
   "execution_count": 2,
   "metadata": {},
   "outputs": [
    {
     "name": "stdout",
     "output_type": "stream",
     "text": [
      "Data type of array a is:  int32\n",
      "Data type of array b is:  int32\n",
      "Dimension of array a:  1\n",
      "Dimension of array b:  2\n"
     ]
    }
   ],
   "source": [
    "#b) Check the data type and the dimension of created arrays\n",
    "print(\"Data type of array a is: \",a.dtype)\n",
    "print(\"Data type of array b is: \",b.dtype)\n",
    "print(\"Dimension of array a: \",a.ndim)\n",
    "print(\"Dimension of array b: \",b.ndim)"
   ]
  },
  {
   "cell_type": "code",
   "execution_count": 3,
   "metadata": {},
   "outputs": [
    {
     "name": "stdout",
     "output_type": "stream",
     "text": [
      "Size of each element in array:  4\n",
      "Size of each element in array:  4\n"
     ]
    }
   ],
   "source": [
    "#c Find the size of each element in array\n",
    "print(\"Size of each element in array: \", a.itemsize)\n",
    "print(\"Size of each element in array: \", b.itemsize)\n"
   ]
  },
  {
   "cell_type": "code",
   "execution_count": 4,
   "metadata": {},
   "outputs": [
    {
     "name": "stdout",
     "output_type": "stream",
     "text": [
      "Number of rows and columns of 2D array are:  (2, 3)\n"
     ]
    }
   ],
   "source": [
    "#d Find the number of rows and colums of 2D array\n",
    "print(\"Number of rows and columns of 2D array are: \", b.shape)"
   ]
  },
  {
   "cell_type": "code",
   "execution_count": 5,
   "metadata": {},
   "outputs": [
    {
     "name": "stdout",
     "output_type": "stream",
     "text": [
      "Original Array:\n",
      " [[1 2 3]\n",
      " [4 5 6]]\n",
      "\n",
      "Reshaped Array:\n",
      " [[1 2]\n",
      " [3 4]\n",
      " [5 6]]\n"
     ]
    }
   ],
   "source": [
    "#e An array of shape (2,3) given, reshape the array into (3,2)\n",
    "original_array = np.array(b)\n",
    "reshaped_array = original_array.reshape((3, 2))\n",
    "print(\"Original Array:\\n\", original_array)\n",
    "print(\"\\nReshaped Array:\\n\",reshaped_array)"
   ]
  },
  {
   "cell_type": "markdown",
   "metadata": {},
   "source": [
    "Q.2 slicing of Arrays"
   ]
  },
  {
   "cell_type": "code",
   "execution_count": 6,
   "metadata": {},
   "outputs": [
    {
     "name": "stdout",
     "output_type": "stream",
     "text": [
      "[6 3 9]\n"
     ]
    }
   ],
   "source": [
    "#A 1D array [4,5,6,3,9,7], slice the array to get [6,3,9]\n",
    "a = np.array([4,5,6,3,9,7])\n",
    "print(a[2:5])"
   ]
  },
  {
   "cell_type": "code",
   "execution_count": 7,
   "metadata": {},
   "outputs": [
    {
     "name": "stdout",
     "output_type": "stream",
     "text": [
      "[[1 2]]\n"
     ]
    }
   ],
   "source": [
    "#B A 2D array is given as [[1,2,3],[4,5,6]]. Slice the array to get [[1,2]]\n",
    "b = np.array([[1,2,3],[4,5,6]])\n",
    "print(b[0:1,0:2])"
   ]
  },
  {
   "cell_type": "markdown",
   "metadata": {},
   "source": [
    "Q.3 Join and splitting of NumPy arrays"
   ]
  },
  {
   "cell_type": "code",
   "execution_count": 8,
   "metadata": {},
   "outputs": [
    {
     "name": "stdout",
     "output_type": "stream",
     "text": [
      "[4 5 6 7 3 4 1]\n"
     ]
    }
   ],
   "source": [
    "#a concatenate two 1D arrays [4,5,6,7] and [3,4,1]\n",
    "a=np.array([4,5,6,7])\n",
    "b=np.array([3,4,1])\n",
    "c=np.concatenate((a,b))\n",
    "print(c)"
   ]
  },
  {
   "cell_type": "code",
   "execution_count": 9,
   "metadata": {},
   "outputs": [
    {
     "name": "stdout",
     "output_type": "stream",
     "text": [
      "Array a:\n",
      " [[1 2 3]\n",
      " [4 5 6]]\n",
      "Array b:\n",
      " [[ 7  8  9]\n",
      " [10 11 12]]\n",
      "Concatenation of two arrays in row by row manner:\n",
      " [[ 1  2  3]\n",
      " [ 4  5  6]\n",
      " [ 7  8  9]\n",
      " [10 11 12]]\n"
     ]
    }
   ],
   "source": [
    "#b Perform conacatenation of two 2D arrays in row by row manner\n",
    "a = np.array([[1,2,3],[4,5,6]])\n",
    "b = np.array([[7,8,9],[10,11,12]])\n",
    "print(\"Array a:\\n\",a)\n",
    "print(\"Array b:\\n\",b)\n",
    "print(\"Concatenation of two arrays in row by row manner:\\n\",np.concatenate((a,b)))\n"
   ]
  },
  {
   "cell_type": "code",
   "execution_count": 10,
   "metadata": {},
   "outputs": [
    {
     "name": "stdout",
     "output_type": "stream",
     "text": [
      "[array([4]), array([5, 6]), array([3, 9])]\n"
     ]
    }
   ],
   "source": [
    "#c split the array [4,5,6,3,9]  into 3 sub-arrays\n",
    "x=np.array([4,5,6,3,9])\n",
    "print(np.split(x,[1,3]))\n",
    "\n"
   ]
  },
  {
   "cell_type": "code",
   "execution_count": 11,
   "metadata": {},
   "outputs": [
    {
     "name": "stdout",
     "output_type": "stream",
     "text": [
      "[array([[1, 2, 3]]), array([[4, 5, 6]]), array([[7, 8, 9]])]\n"
     ]
    }
   ],
   "source": [
    "#d  Split the array[[1,2,3],[4,5,6],[7,8,9]] into three subarrays.\n",
    "a = np.array([[1,2,3],[4,5,6],[7,8,9]])\n",
    "print(np.split(a,3))\n",
    "\n"
   ]
  },
  {
   "cell_type": "markdown",
   "metadata": {},
   "source": [
    "Q.4 Searching elements in an array "
   ]
  },
  {
   "cell_type": "code",
   "execution_count": 12,
   "metadata": {},
   "outputs": [
    {
     "name": "stdout",
     "output_type": "stream",
     "text": [
      "(array([3, 5, 6], dtype=int64),)\n"
     ]
    }
   ],
   "source": [
    "#a Given an array [1,2,3,4,5,4,4] Find the index of element \n",
    "arr=np.array([1,2,3,4,5,4,4])\n",
    "print(np.where(arr==4))"
   ]
  },
  {
   "cell_type": "code",
   "execution_count": 13,
   "metadata": {},
   "outputs": [],
   "source": [
    "#b Given a 2d array [[1,2,3],[4,5,6],[7,8,9],[10,11,12]] find the index of element 5\n"
   ]
  },
  {
   "cell_type": "code",
   "execution_count": 14,
   "metadata": {},
   "outputs": [],
   "source": [
    "#c Given an array [1,2,3,4,5,6,7,8] find out the indices of odd elements and even elements\n"
   ]
  },
  {
   "cell_type": "markdown",
   "metadata": {},
   "source": [
    "Q.5 SORTING OF ARRAYS"
   ]
  },
  {
   "cell_type": "code",
   "execution_count": 23,
   "metadata": {},
   "outputs": [
    {
     "name": "stdout",
     "output_type": "stream",
     "text": [
      "Ascending sorted array: [ 1  2  5  6  7  9 10 36]\n",
      "Descending sorted array: [36 10  9  7  6  5  2  1]\n"
     ]
    }
   ],
   "source": [
    "#a Sort the elements of given 1D array [6,5,1,2,9,10,36,7] in ascending and descending order\n",
    "import numpy as np\n",
    "array = np.array([6, 5, 1, 2, 9, 10, 36, 7])\n",
    "ascending_sorted = np.sort(array)\n",
    "descending_sorted = np.sort(array)[::-1]\n",
    "print(\"Ascending sorted array:\", ascending_sorted)\n",
    "print(\"Descending sorted array:\", descending_sorted)"
   ]
  },
  {
   "cell_type": "code",
   "execution_count": 16,
   "metadata": {},
   "outputs": [],
   "source": [
    "#b sort the elements of given 2D array [[5,3,7],[8,10,6],[40,-2,7]] in ascending and descending order\n",
    "import numpy as np\n",
    "array = np.array([[5, 3, 7], [8, 10, 6], [40, -2, 7]])\n",
    "asc = np.sort(array, axis=None)\n",
    "desc = np.sort(array, axis=None)[::-1]\n",
    "asc = asc.reshape(array.shape)\n",
    "desc = desc.reshape(array.shape)\n",
    "print(\"Ascending order: \\n\", asc)\n",
    "print(\"Descending order: \\n\", desc)"
   ]
  },
  {
   "cell_type": "markdown",
   "metadata": {},
   "source": [
    "Q.6 Random no generation in NUMPY Arrays"
   ]
  },
  {
   "cell_type": "code",
   "execution_count": 17,
   "metadata": {},
   "outputs": [],
   "source": [
    "#a Generate a 1-D array containing random integers from 0 to 20\n",
    "import numpy as np\n",
    "a = np.random.randint(0, 20, 10)\n",
    "print(a)"
   ]
  },
  {
   "cell_type": "code",
   "execution_count": 1,
   "metadata": {},
   "outputs": [
    {
     "name": "stdout",
     "output_type": "stream",
     "text": [
      "[0.18846148 0.21681085 0.69626761 0.20640051 0.51605827]\n"
     ]
    }
   ],
   "source": [
    "#b Generate a 1D array containing 5 random floats\n",
    "import numpy as np\n",
    "a = np.random.rand(5)\n",
    "print(a)"
   ]
  },
  {
   "cell_type": "code",
   "execution_count": 19,
   "metadata": {},
   "outputs": [],
   "source": [
    "#c Generate a 2D array with 3 rows, each row containing 5 random integers from 0 to 50\n",
    "import numpy as np\n",
    "array = np.random.randint(0, 50, size=(3, 5))\n",
    "print(array)"
   ]
  },
  {
   "cell_type": "code",
   "execution_count": 20,
   "metadata": {},
   "outputs": [],
   "source": [
    "#d Generate a 2D array with 3 rows, each row containing 5 random numbers\n",
    "import numpy as np\n",
    "array = np.random.rand(3, 5, size=(3, 5))\n",
    "print(array)"
   ]
  },
  {
   "cell_type": "code",
   "execution_count": 21,
   "metadata": {},
   "outputs": [],
   "source": [
    "#e Given 1D array [6,5,1,2,9,10,36,7]. shuffle the elements of the array randomly\n",
    "import numpy as np\n",
    "arr = np.array([6, 5, 1, 2, 9, 10, 36, 7])\n",
    "np.random.shuffle(arr)\n",
    "print(arr)"
   ]
  },
  {
   "cell_type": "code",
   "execution_count": 2,
   "metadata": {},
   "outputs": [
    {
     "name": "stdout",
     "output_type": "stream",
     "text": [
      "Original array:\n",
      "[[ 1  2  3]\n",
      " [ 4  5  6]\n",
      " [ 7  8  9]\n",
      " [10 11 12]]\n",
      "After shuffling:\n",
      "[[ 4  5  6]\n",
      " [ 1  2  3]\n",
      " [10 11 12]\n",
      " [ 7  8  9]]\n"
     ]
    }
   ],
   "source": [
    "#f given 2D array [[1,2,3][4,5,6][7,8,9][10,11,12]] shuffle the elements of given array randomly\n",
    "import numpy as np\n",
    "arr = np.array([[1, 2, 3], [4, 5, 6], [7, 8, 9], [10, 11, 12]])\n",
    "print(\"Original array:\")\n",
    "print(arr)\n",
    "print(\"After shuffling:\")\n",
    "np.random.shuffle(arr)\n",
    "print(arr)"
   ]
  },
  {
   "cell_type": "code",
   "execution_count": null,
   "metadata": {},
   "outputs": [],
   "source": []
  }
 ],
 "metadata": {
  "kernelspec": {
   "display_name": "base",
   "language": "python",
   "name": "python3"
  },
  "language_info": {
   "codemirror_mode": {
    "name": "ipython",
    "version": 3
   },
   "file_extension": ".py",
   "mimetype": "text/x-python",
   "name": "python",
   "nbconvert_exporter": "python",
   "pygments_lexer": "ipython3",
   "version": "3.10.9"
  },
  "orig_nbformat": 4
 },
 "nbformat": 4,
 "nbformat_minor": 2
}
