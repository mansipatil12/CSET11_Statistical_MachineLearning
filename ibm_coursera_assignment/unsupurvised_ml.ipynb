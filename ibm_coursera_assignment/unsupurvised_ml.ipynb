{
 "cells": [
  {
   "cell_type": "code",
   "execution_count": null,
   "metadata": {},
   "outputs": [],
   "source": [
    "import pandas as pd\n",
    "import numpy as np\n",
    "import seaborn as sns\n",
    "import matplotlib.pyplot as plt\n",
    "from sklearn.preprocessing import StandardScaler\n",
    "from sklearn.cluster import AgglomerativeClustering\n",
    "from sklearn.cluster import KMeans\n",
    "from scipy.cluster import hierarchy\n",
    "\n",
    "# Mute the sklearn and IPython warnings\n",
    "import warnings\n",
    "warnings.filterwarnings('ignore', module='sklearn')\n",
    "pd.options.display.float_format = '{:.2f}'.format"
   ]
  },
  {
   "cell_type": "code",
   "execution_count": null,
   "metadata": {},
   "outputs": [],
   "source": [
    "data = pd.DataFrame(pd.read_csv('./fundamentals.csv', sep=','))\n",
    "data.head()"
   ]
  },
  {
   "cell_type": "code",
   "execution_count": null,
   "metadata": {},
   "outputs": [],
   "source": [
    "data.isnull().sum()"
   ]
  },
  {
   "cell_type": "code",
   "execution_count": null,
   "metadata": {},
   "outputs": [],
   "source": [
    "plt.figure(figsize = (15, 3))\n",
    "dt = data.sort_values(by = 'Net Income', ascending=False).head(50)\n",
    "sns.set_context(\"notebook\")\n",
    "\n",
    "sns.barplot(x = dt['Ticker Symbol'], y =data['Net Income'], palette=(\"spring\"), ci=None)"
   ]
  },
  {
   "cell_type": "code",
   "execution_count": null,
   "metadata": {},
   "outputs": [],
   "source": [
    "data.drop(['Unnamed: 0', 'Ticker Symbol', 'Period Ending'],axis = 1, inplace=True)\n",
    "data.dropna(axis=1,inplace=True)"
   ]
  },
  {
   "cell_type": "code",
   "execution_count": null,
   "metadata": {},
   "outputs": [],
   "source": [
    "data.isnull().sum().all() == 0"
   ]
  },
  {
   "cell_type": "code",
   "execution_count": null,
   "metadata": {},
   "outputs": [],
   "source": [
    "data.dtypes.all() == 'float64' # all floats except Ticker Symbol"
   ]
  },
  {
   "cell_type": "code",
   "execution_count": null,
   "metadata": {},
   "outputs": [],
   "source": [
    "data['Net Income'] = data['Net Income'].apply(lambda x : 1 if x > 0 else 0)"
   ]
  },
  {
   "cell_type": "code",
   "execution_count": null,
   "metadata": {},
   "outputs": [],
   "source": [
    "data['Net Income'].value_counts()"
   ]
  },
  {
   "cell_type": "code",
   "execution_count": null,
   "metadata": {},
   "outputs": [],
   "source": [
    "log_columns = data.skew().sort_values(ascending=False)\n",
    "log_columns = log_columns.loc[log_columns > 0.75]\n",
    "\n",
    "log_columns"
   ]
  },
  {
   "cell_type": "code",
   "execution_count": null,
   "metadata": {},
   "outputs": [],
   "source": [
    "# The log transformations\n",
    "for col in log_columns.index:\n",
    "    data[col] = np.log1p(data[col])"
   ]
  },
  {
   "cell_type": "code",
   "execution_count": null,
   "metadata": {},
   "outputs": [],
   "source": [
    "data.dropna(axis=1,inplace=True)"
   ]
  },
  {
   "cell_type": "code",
   "execution_count": null,
   "metadata": {},
   "outputs": [],
   "source": [
    "sc = StandardScaler()\n",
    "feature_columns = [x for x in data.columns if x not in 'Net Income']\n",
    "for col in feature_columns:\n",
    "    data[col] = sc.fit_transform(data[[col]])\n",
    "\n",
    "data.head(4)"
   ]
  },
  {
   "cell_type": "code",
   "execution_count": null,
   "metadata": {},
   "outputs": [],
   "source": [
    "km = KMeans(n_clusters=2, random_state=42)\n",
    "km = km.fit(data[feature_columns])\n",
    "\n",
    "data['kmeans'] = km.predict(data[feature_columns])\n",
    "(data[['Net Income','kmeans']]\n",
    " .groupby(['kmeans','Net Income'])\n",
    " .size()\n",
    " .to_frame()\n",
    " .rename(columns={0:'number'}))"
   ]
  },
  {
   "cell_type": "code",
   "execution_count": null,
   "metadata": {},
   "outputs": [],
   "source": [
    "for linkage in ['complete', 'ward']:\n",
    "    ag = AgglomerativeClustering(n_clusters=2, linkage=linkage, compute_full_tree=True)\n",
    "    ag = ag.fit(data[feature_columns])\n",
    "    data[str('agglom_'+linkage)] = ag.fit_predict(data[feature_columns])"
   ]
  },
  {
   "cell_type": "code",
   "execution_count": null,
   "metadata": {},
   "outputs": [],
   "source": [
    "(data[['Net Income','agglom_ward']]\n",
    " .groupby(['Net Income','agglom_ward'])\n",
    " .size()\n",
    " .to_frame()\n",
    " .rename(columns={0:'number'}))"
   ]
  },
  {
   "cell_type": "code",
   "execution_count": null,
   "metadata": {},
   "outputs": [],
   "source": [
    "(data[['Net Income','agglom_complete']]\n",
    "     .groupby(['Net Income','agglom_complete'])\n",
    "     .size()\n",
    "     .to_frame()\n",
    "     .rename(columns={0:'number'}))"
   ]
  },
  {
   "cell_type": "code",
   "execution_count": null,
   "metadata": {},
   "outputs": [],
   "source": [
    "# Comparing AgglomerativeClustering with KMeans\n",
    "(data[['Net Income','agglom_complete', 'agglom_ward','kmeans']]\n",
    " .groupby(['Net Income', 'agglom_complete', 'agglom_ward', 'kmeans'])\n",
    " .size()\n",
    " .to_frame()\n",
    " .rename(columns={0:'number'}))"
   ]
  },
  {
   "cell_type": "code",
   "execution_count": null,
   "metadata": {},
   "outputs": [],
   "source": [
    "Z = hierarchy.linkage(ag.children_, method='ward')\n",
    "\n",
    "fig, ax = plt.subplots(figsize=(15,5))\n",
    "\n",
    "\n",
    "hierarchy.set_link_color_palette(['purple', 'orange'])\n",
    "\n",
    "den = hierarchy.dendrogram(Z, orientation='top', p=30, truncate_mode='lastp',show_leaf_counts=True, ax=ax,above_threshold_color='cyan')"
   ]
  },
  {
   "cell_type": "code",
   "execution_count": null,
   "metadata": {},
   "outputs": [],
   "source": []
  }
 ],
 "metadata": {
  "language_info": {
   "name": "python"
  }
 },
 "nbformat": 4,
 "nbformat_minor": 2
}
